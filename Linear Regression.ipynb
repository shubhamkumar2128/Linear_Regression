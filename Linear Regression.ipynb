{
 "cells": [
  {
   "cell_type": "code",
   "execution_count": 298,
   "metadata": {},
   "outputs": [],
   "source": [
    "import pandas as pd\n",
    "import numpy as np\n",
    "import matplotlib.pyplot as plt"
   ]
  },
  {
   "cell_type": "code",
   "execution_count": 299,
   "metadata": {},
   "outputs": [
    {
     "data": {
      "text/html": [
       "<div>\n",
       "<style scoped>\n",
       "    .dataframe tbody tr th:only-of-type {\n",
       "        vertical-align: middle;\n",
       "    }\n",
       "\n",
       "    .dataframe tbody tr th {\n",
       "        vertical-align: top;\n",
       "    }\n",
       "\n",
       "    .dataframe thead th {\n",
       "        text-align: right;\n",
       "    }\n",
       "</style>\n",
       "<table border=\"1\" class=\"dataframe\">\n",
       "  <thead>\n",
       "    <tr style=\"text-align: right;\">\n",
       "      <th></th>\n",
       "      <th>Gender</th>\n",
       "      <th>Age</th>\n",
       "      <th>Head size</th>\n",
       "      <th>Brain weight</th>\n",
       "    </tr>\n",
       "  </thead>\n",
       "  <tbody>\n",
       "    <tr>\n",
       "      <th>0</th>\n",
       "      <td>1</td>\n",
       "      <td>1</td>\n",
       "      <td>4205</td>\n",
       "      <td>1503</td>\n",
       "    </tr>\n",
       "    <tr>\n",
       "      <th>1</th>\n",
       "      <td>1</td>\n",
       "      <td>1</td>\n",
       "      <td>3731</td>\n",
       "      <td>1490</td>\n",
       "    </tr>\n",
       "    <tr>\n",
       "      <th>2</th>\n",
       "      <td>1</td>\n",
       "      <td>1</td>\n",
       "      <td>4325</td>\n",
       "      <td>1477</td>\n",
       "    </tr>\n",
       "    <tr>\n",
       "      <th>3</th>\n",
       "      <td>1</td>\n",
       "      <td>1</td>\n",
       "      <td>3971</td>\n",
       "      <td>1464</td>\n",
       "    </tr>\n",
       "    <tr>\n",
       "      <th>4</th>\n",
       "      <td>1</td>\n",
       "      <td>1</td>\n",
       "      <td>5667</td>\n",
       "      <td>1451</td>\n",
       "    </tr>\n",
       "    <tr>\n",
       "      <th>5</th>\n",
       "      <td>1</td>\n",
       "      <td>1</td>\n",
       "      <td>6052</td>\n",
       "      <td>1438</td>\n",
       "    </tr>\n",
       "    <tr>\n",
       "      <th>6</th>\n",
       "      <td>1</td>\n",
       "      <td>1</td>\n",
       "      <td>6445</td>\n",
       "      <td>1425</td>\n",
       "    </tr>\n",
       "    <tr>\n",
       "      <th>7</th>\n",
       "      <td>1</td>\n",
       "      <td>1</td>\n",
       "      <td>5182</td>\n",
       "      <td>1412</td>\n",
       "    </tr>\n",
       "    <tr>\n",
       "      <th>8</th>\n",
       "      <td>1</td>\n",
       "      <td>1</td>\n",
       "      <td>3919</td>\n",
       "      <td>1399</td>\n",
       "    </tr>\n",
       "  </tbody>\n",
       "</table>\n",
       "</div>"
      ],
      "text/plain": [
       "   Gender  Age  Head size  Brain weight\n",
       "0       1    1       4205          1503\n",
       "1       1    1       3731          1490\n",
       "2       1    1       4325          1477\n",
       "3       1    1       3971          1464\n",
       "4       1    1       5667          1451\n",
       "5       1    1       6052          1438\n",
       "6       1    1       6445          1425\n",
       "7       1    1       5182          1412\n",
       "8       1    1       3919          1399"
      ]
     },
     "execution_count": 299,
     "metadata": {},
     "output_type": "execute_result"
    }
   ],
   "source": [
    "#read csv file\n",
    "df=pd.read_csv(\"Desktop\\\\csvdemo.csv\")\n",
    "df"
   ]
  },
  {
   "cell_type": "code",
   "execution_count": 316,
   "metadata": {},
   "outputs": [
    {
     "name": "stdout",
     "output_type": "stream",
     "text": [
      "x = [4205 3731 4325 3971 5667 6052 6445 5182 3919] Y = [1503 1490 1477 1464 1451 1438 1425 1412 1399]\n"
     ]
    }
   ],
   "source": [
    "#fetch values in array form\n",
    "point_x=df[\"Head size\"].values\n",
    "point_y=df[\"Brain weight\"].values\n",
    "print(\"x =\",point_x,\"Y =\",point_y)"
   ]
  },
  {
   "cell_type": "code",
   "execution_count": 327,
   "metadata": {},
   "outputs": [
    {
     "name": "stdout",
     "output_type": "stream",
     "text": [
      "-0.014842184533794392 1522.7322778518283\n"
     ]
    }
   ],
   "source": [
    "#calculating b0,b1 or m and c value for equation y=b1x+b0 or y=mx+c\n",
    "mean_x=np.mean(point_x) #x bar\n",
    "mean_y=np.mean(point_y) #y bar\n",
    "n=len(point_x)\n",
    "ab=c=0\n",
    "for val in range(n):   \n",
    "    ab+=(point_x[val]-mean_x)*(point_y[val]-mean_y)\n",
    "    c+=(point_x[val]-mean_x)**2\n",
    "b1=ab/c\n",
    "b0=mean_y-(b1*mean_x)\n",
    "\n",
    "print(b1,b0)\n"
   ]
  },
  {
   "cell_type": "code",
   "execution_count": 326,
   "metadata": {},
   "outputs": [
    {
     "name": "stdout",
     "output_type": "stream",
     "text": [
      "[1467.35608736 1466.53401207 1465.71193679 1464.88986151 1464.06778623\n",
      " 1463.24571095 1462.42363566 1461.60156038 1460.7794851  1459.95740982\n",
      " 1459.13533453 1458.31325925 1457.49118397 1456.66910869 1455.84703341\n",
      " 1455.02495812 1454.20288284 1453.38080756 1452.55873228 1451.736657\n",
      " 1450.91458171 1450.09250643 1449.27043115 1448.44835587 1447.62628058\n",
      " 1446.8042053  1445.98213002 1445.16005474 1444.33797946 1443.51590417\n",
      " 1442.69382889 1441.87175361 1441.04967833 1440.22760305 1439.40552776\n",
      " 1438.58345248 1437.7613772  1436.93930192 1436.11722664 1435.29515135\n",
      " 1434.47307607 1433.65100079 1432.82892551 1432.00685022 1431.18477494\n",
      " 1430.36269966 1429.54062438 1428.7185491  1427.89647381 1427.07439853]\n"
     ]
    },
    {
     "data": {
      "image/png": "[encoded data removed]",
      "text/plain": [
       "<Figure size 432x288 with 1 Axes>"
      ]
     },
     "metadata": {
      "needs_background": "light"
     },
     "output_type": "display_data"
    }
   ],
   "source": [
    "#Plotting values and regression line\n",
    "maxx=np.max(point_x)\n",
    "minx=np.min(point_x)\n",
    "\n",
    "x=np.linspace(minx,maxx)\n",
    "y=(b1*x)+b0\n",
    "print(y)\n",
    "\n",
    "plt.plot(x,y,color=\"red\",label=\"Regression Line\")\n",
    "plt.scatter(point_x,point_y,label=\"Scatter Plot\")\n",
    "plt.xlabel(\"Head size\")\n",
    "plt.ylabel(\"Brain weight\")\n",
    "plt.legend()\n",
    "plt.show()"
   ]
  },
  {
   "cell_type": "code",
   "execution_count": 341,
   "metadata": {},
   "outputs": [
    {
     "data": {
      "text/plain": [
       "0.18134104949623217"
      ]
     },
     "execution_count": 341,
     "metadata": {},
     "output_type": "execute_result"
    }
   ],
   "source": [
    "#calculating root_square problem\n",
    "up=ny=0\n",
    "for i in range(n):\n",
    "    ypred=(b1*point_x[i])+b0\n",
    "    up+=(ypred-mean_y)**2\n",
    "    ny+=(point_y[i]-mean_y)**2\n",
    "ans=up/ny\n",
    "ans\n",
    "\n",
    "    \n",
    "    "
   ]
  }
 ],
 "metadata": {
  "kernelspec": {
   "display_name": "Python 3",
   "language": "python",
   "name": "python3"
  },
  "language_info": {
   "codemirror_mode": {
    "name": "ipython",
    "version": 3
   },
   "file_extension": ".py",
   "mimetype": "text/x-python",
   "name": "python",
   "nbconvert_exporter": "python",
   "pygments_lexer": "ipython3",
   "version": "3.7.4"
  }
 },
 "nbformat": 4,
 "nbformat_minor": 2
}
